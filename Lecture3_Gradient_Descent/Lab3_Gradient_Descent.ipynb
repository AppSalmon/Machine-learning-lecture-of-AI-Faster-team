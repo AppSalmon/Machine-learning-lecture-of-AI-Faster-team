{
 "cells": [
  {
   "attachments": {
    "logogithub.jpg": {
     "image/jpeg": "[encoded data removed]"
    }
   },
   "cell_type": "markdown",
   "id": "8e762d88",
   "metadata": {},
   "source": [
    "![logogithub.jpg](attachment:logogithub.jpg) \n",
    "#  Lab 3 - Gradient Descent - AI Faster "
   ]
  },
  {
   "cell_type": "markdown",
   "id": "da4f0620",
   "metadata": {},
   "source": [
    "### Problem 1"
   ]
  },
  {
   "cell_type": "markdown",
   "id": "978573a7",
   "metadata": {},
   "source": [
    "Tìm **global minimum** (cực tiểu của độ thì hàm số) của 2 đồ thị hàm số sau bằng **Gradient Descent** và biểu diễn cách hoạt động của thuật toán (visualization) sau đó vẽ biểu đồ mối quan hệ giữa cost value (đạo hàm) và iteration (số lần lặp):\n",
    ">Đồ thị hàm parabol: $y = x^{2}$\n",
    "\n",
    ">Đồ thị hàm trùng phương: $y = x^{4} - 2x^{2} - 3$"
   ]
  },
  {
   "cell_type": "code",
   "execution_count": null,
   "id": "916b2277",
   "metadata": {},
   "outputs": [],
   "source": [
    "# Code ở đây cũng được"
   ]
  },
  {
   "cell_type": "markdown",
   "id": "25100cdb",
   "metadata": {},
   "source": [
    "### Problem 2"
   ]
  },
  {
   "cell_type": "markdown",
   "id": "bb058893",
   "metadata": {},
   "source": [
    "Từ dữ liệu file *Data_female.txt* bạn hãy dùng **Gradient Descent** để dự đoán cân nặng dựa vào chiều cao, và trực quan hóa sau đó vẽ biểu đồ mối quan hệ giữa cost value (đạo hàm) và iteration (số lần lặp)"
   ]
  },
  {
   "cell_type": "code",
   "execution_count": null,
   "id": "4cea8af0",
   "metadata": {},
   "outputs": [],
   "source": [
    "# Code ở đây cũng được"
   ]
  },
  {
   "cell_type": "markdown",
   "id": "958ab3cb",
   "metadata": {},
   "source": [
    "### Problem 3"
   ]
  },
  {
   "cell_type": "markdown",
   "id": "5e01df4a",
   "metadata": {},
   "source": [
    "Từ 2 list dữ liệu dưới đây hãy vẽ một đường parabol bằng Linear Regression và một đường parabol bằng **Gradient Descent** sau đó dựa đoán label dựa vào data có sẵn và vẽ biểu đồ mối quan hệ giữa cost value (đạo hàm) và iteration (số lần lặp)"
   ]
  },
  {
   "cell_type": "markdown",
   "id": "777b1402",
   "metadata": {},
   "source": [
    "> **label** = [2,5,7,9,11,16,19,23,22,29,29,35,37,40,46,42,39,31,30,28,20,15,10,6]\n",
    "\n",
    "> **data** = [2,3,4,5,6,7,8,9,10,11,12,13,14,15,16,17,18,19,20,21,22,23,24,25]"
   ]
  },
  {
   "cell_type": "code",
   "execution_count": null,
   "id": "e8c7f010",
   "metadata": {},
   "outputs": [],
   "source": [
    "# Code ở đây cũng được"
   ]
  },
  {
   "cell_type": "markdown",
   "id": "b4cc07ea",
   "metadata": {},
   "source": [
    "### Problem 4"
   ]
  },
  {
   "cell_type": "markdown",
   "id": "b412f05e",
   "metadata": {},
   "source": [
    "Từ dữ liệu file *Data_GPA_Stanford.txt* bạn hãy dùng **Gradient Descent** để dự đoán Điểm GPA của một sinh viên dựa vào chỉ số IQ và thời gian học trong một ngày của sinh viên đó (Bài này không bắt buộc visualization)."
   ]
  },
  {
   "cell_type": "code",
   "execution_count": null,
   "id": "d7632190",
   "metadata": {},
   "outputs": [],
   "source": [
    "# Code ở đây cũng được"
   ]
  }
 ],
 "metadata": {
  "kernelspec": {
   "display_name": "Python 3 (ipykernel)",
   "language": "python",
   "name": "python3"
  },
  "language_info": {
   "codemirror_mode": {
    "name": "ipython",
    "version": 3
   },
   "file_extension": ".py",
   "mimetype": "text/x-python",
   "name": "python",
   "nbconvert_exporter": "python",
   "pygments_lexer": "ipython3",
   "version": "3.9.13"
  }
 },
 "nbformat": 4,
 "nbformat_minor": 5
}
