{
 "cells": [
  {
   "cell_type": "code",
   "execution_count": 1,
   "id": "a3b16dd2",
   "metadata": {},
   "outputs": [],
   "source": [
    "import numpy as np\n",
    "import matplotlib\n",
    "import matplotlib.pyplot as plt\n",
    "import pandas as pd\n",
    "from sklearn import linear_model"
   ]
  },
  {
   "cell_type": "markdown",
   "id": "9c3d5050",
   "metadata": {},
   "source": [
    "### Problem 1\n",
    "Từ dữ liệu về chiều cao, cân nặng trong file **Data_height_weight_of_female.xlsx** bạn hãy dùng Linear Regression để dự đoán cân nặng dựa vào chiều cao, và trực quan hóa"
   ]
  },
  {
   "cell_type": "code",
   "execution_count": 2,
   "id": "24bf04e6",
   "metadata": {},
   "outputs": [],
   "source": [
    "df = pd.read_excel('Data_height_weight_of_female.xlsx')"
   ]
  },
  {
   "cell_type": "code",
   "execution_count": 3,
   "id": "90281da5",
   "metadata": {},
   "outputs": [
    {
     "data": {
      "text/html": [
       "<div>\n",
       "<style scoped>\n",
       "    .dataframe tbody tr th:only-of-type {\n",
       "        vertical-align: middle;\n",
       "    }\n",
       "\n",
       "    .dataframe tbody tr th {\n",
       "        vertical-align: top;\n",
       "    }\n",
       "\n",
       "    .dataframe thead th {\n",
       "        text-align: right;\n",
       "    }\n",
       "</style>\n",
       "<table border=\"1\" class=\"dataframe\">\n",
       "  <thead>\n",
       "    <tr style=\"text-align: right;\">\n",
       "      <th></th>\n",
       "      <th>Chiều cao</th>\n",
       "      <th>Cân nặng</th>\n",
       "    </tr>\n",
       "  </thead>\n",
       "  <tbody>\n",
       "    <tr>\n",
       "      <th>0</th>\n",
       "      <td>74.0cm</td>\n",
       "      <td>12.9kg</td>\n",
       "    </tr>\n",
       "    <tr>\n",
       "      <th>1</th>\n",
       "      <td>80.7cm</td>\n",
       "      <td>10.2kg</td>\n",
       "    </tr>\n",
       "    <tr>\n",
       "      <th>2</th>\n",
       "      <td>86.4cm</td>\n",
       "      <td>9.5kg</td>\n",
       "    </tr>\n",
       "    <tr>\n",
       "      <th>3</th>\n",
       "      <td>90.7cm</td>\n",
       "      <td>16.7kg</td>\n",
       "    </tr>\n",
       "    <tr>\n",
       "      <th>4</th>\n",
       "      <td>95.7cm</td>\n",
       "      <td>16.9kg</td>\n",
       "    </tr>\n",
       "  </tbody>\n",
       "</table>\n",
       "</div>"
      ],
      "text/plain": [
       "  Chiều cao Cân nặng\n",
       "0    74.0cm   12.9kg\n",
       "1    80.7cm   10.2kg\n",
       "2    86.4cm    9.5kg\n",
       "3    90.7cm   16.7kg\n",
       "4    95.7cm   16.9kg"
      ]
     },
     "execution_count": 3,
     "metadata": {},
     "output_type": "execute_result"
    }
   ],
   "source": [
    "df.head(5)"
   ]
  },
  {
   "cell_type": "code",
   "execution_count": 4,
   "id": "b0792a54",
   "metadata": {},
   "outputs": [],
   "source": [
    "df['Chiều cao'] = df['Chiều cao'].apply(lambda x: float(x.replace('cm', '')))\n",
    "df['Cân nặng'] = df['Cân nặng'].apply(lambda x: float(x.replace('kg', '')))"
   ]
  },
  {
   "cell_type": "code",
   "execution_count": 5,
   "id": "90dbd9f1",
   "metadata": {},
   "outputs": [
    {
     "data": {
      "text/html": [
       "<div>\n",
       "<style scoped>\n",
       "    .dataframe tbody tr th:only-of-type {\n",
       "        vertical-align: middle;\n",
       "    }\n",
       "\n",
       "    .dataframe tbody tr th {\n",
       "        vertical-align: top;\n",
       "    }\n",
       "\n",
       "    .dataframe thead th {\n",
       "        text-align: right;\n",
       "    }\n",
       "</style>\n",
       "<table border=\"1\" class=\"dataframe\">\n",
       "  <thead>\n",
       "    <tr style=\"text-align: right;\">\n",
       "      <th></th>\n",
       "      <th>Chiều cao</th>\n",
       "      <th>Cân nặng</th>\n",
       "    </tr>\n",
       "  </thead>\n",
       "  <tbody>\n",
       "    <tr>\n",
       "      <th>0</th>\n",
       "      <td>74.0</td>\n",
       "      <td>12.9</td>\n",
       "    </tr>\n",
       "    <tr>\n",
       "      <th>1</th>\n",
       "      <td>80.7</td>\n",
       "      <td>10.2</td>\n",
       "    </tr>\n",
       "    <tr>\n",
       "      <th>2</th>\n",
       "      <td>86.4</td>\n",
       "      <td>9.5</td>\n",
       "    </tr>\n",
       "    <tr>\n",
       "      <th>3</th>\n",
       "      <td>90.7</td>\n",
       "      <td>16.7</td>\n",
       "    </tr>\n",
       "    <tr>\n",
       "      <th>4</th>\n",
       "      <td>95.7</td>\n",
       "      <td>16.9</td>\n",
       "    </tr>\n",
       "  </tbody>\n",
       "</table>\n",
       "</div>"
      ],
      "text/plain": [
       "   Chiều cao  Cân nặng\n",
       "0       74.0      12.9\n",
       "1       80.7      10.2\n",
       "2       86.4       9.5\n",
       "3       90.7      16.7\n",
       "4       95.7      16.9"
      ]
     },
     "execution_count": 5,
     "metadata": {},
     "output_type": "execute_result"
    }
   ],
   "source": [
    "df.head()"
   ]
  },
  {
   "cell_type": "code",
   "execution_count": 6,
   "id": "557b981c",
   "metadata": {},
   "outputs": [],
   "source": [
    "import random\n",
    "df['Cân nặng'] = df['Cân nặng'].apply(lambda x: x + random.randint(-5, 5))"
   ]
  },
  {
   "cell_type": "code",
   "execution_count": 7,
   "id": "fdbde87f",
   "metadata": {},
   "outputs": [],
   "source": [
    "data = np.array([df['Chiều cao']]).T"
   ]
  },
  {
   "cell_type": "code",
   "execution_count": 8,
   "id": "06e931e8",
   "metadata": {},
   "outputs": [],
   "source": [
    "label = np.array([df['Cân nặng']]).T"
   ]
  },
  {
   "cell_type": "code",
   "execution_count": 9,
   "id": "ecfa75ec",
   "metadata": {},
   "outputs": [],
   "source": [
    "ones = np.ones((data.shape[0], 1), dtype = np.int8)"
   ]
  },
  {
   "cell_type": "code",
   "execution_count": 10,
   "id": "6767fa17",
   "metadata": {},
   "outputs": [
    {
     "data": {
      "text/plain": [
       "array([[ 74. ,   1. ],\n",
       "       [ 80.7,   1. ],\n",
       "       [ 86.4,   1. ],\n",
       "       [ 90.7,   1. ],\n",
       "       [ 95.7,   1. ],\n",
       "       [ 99. ,   1. ],\n",
       "       [102.7,   1. ],\n",
       "       [106.2,   1. ],\n",
       "       [109.4,   1. ],\n",
       "       [112.2,   1. ],\n",
       "       [115.1,   1. ],\n",
       "       [118. ,   1. ],\n",
       "       [120.8,   1. ],\n",
       "       [123.7,   1. ],\n",
       "       [126.6,   1. ],\n",
       "       [129.5,   1. ],\n",
       "       [132.5,   1. ],\n",
       "       [135.5,   1. ],\n",
       "       [138.6,   1. ],\n",
       "       [141.3,   1. ],\n",
       "       [145. ,   1. ],\n",
       "       [147.7,   1. ],\n",
       "       [151.2,   1. ],\n",
       "       [153.6,   1. ],\n",
       "       [156.4,   1. ],\n",
       "       [158. ,   1. ],\n",
       "       [159.8,   1. ],\n",
       "       [160.7,   1. ],\n",
       "       [161.7,   1. ],\n",
       "       [162.1,   1. ],\n",
       "       [162.5,   1. ],\n",
       "       [162.7,   1. ],\n",
       "       [162.9,   1. ],\n",
       "       [162.9,   1. ],\n",
       "       [163.1,   1. ],\n",
       "       [163.1,   1. ],\n",
       "       [163.2,   1. ]])"
      ]
     },
     "execution_count": 10,
     "metadata": {},
     "output_type": "execute_result"
    }
   ],
   "source": [
    "data = np.concatenate((data, ones), axis = 1)\n",
    "data"
   ]
  },
  {
   "cell_type": "code",
   "execution_count": 11,
   "id": "bbee3cd0",
   "metadata": {},
   "outputs": [],
   "source": [
    "x = np.linalg.inv(data.T.dot(data)).dot(data.T).dot(label)"
   ]
  },
  {
   "cell_type": "markdown",
   "id": "a70287ad",
   "metadata": {},
   "source": [
    "#### Visualization"
   ]
  },
  {
   "cell_type": "code",
   "execution_count": 12,
   "id": "7f923f57",
   "metadata": {},
   "outputs": [
    {
     "data": {
      "image/png": "[encoded data removed]",
      "text/plain": [
       "<Figure size 640x480 with 1 Axes>"
      ]
     },
     "metadata": {},
     "output_type": "display_data"
    }
   ],
   "source": [
    "x0 = np.array([[70, 200]]).T\n",
    "y0 = x0*x[0][0] + x[1][0]\n",
    "plt.plot(df['Chiều cao'], df['Cân nặng'], 'ro')\n",
    "plt.plot(x0, y0)\n",
    "plt.show()"
   ]
  },
  {
   "cell_type": "markdown",
   "id": "efb8894f",
   "metadata": {},
   "source": [
    "#### Predict"
   ]
  },
  {
   "cell_type": "code",
   "execution_count": 13,
   "id": "3fbf1069",
   "metadata": {},
   "outputs": [
    {
     "name": "stdout",
     "output_type": "stream",
     "text": [
      "Nhập chiều cao bạn muốn dự đoán: 80\n",
      "Kết quả dự đoán là: 5.02kg\n"
     ]
    }
   ],
   "source": [
    "height = float(input(\"Nhập chiều cao bạn muốn dự đoán: \"))\n",
    "result = round(height*x[0][0] + x[1][0], 2)\n",
    "print(f\"Kết quả dự đoán là: {result}kg\")"
   ]
  },
  {
   "cell_type": "markdown",
   "id": "87c4c6a2",
   "metadata": {},
   "source": [
    "### Problem 2\n",
    "Từ dữ liệu file **Data_GPA_harvard.xlsx** bạn hãy dùng Linear Regression để dự đoán Điểm GPA của một sinh viên dựa vào chỉ số IQ và thời gian học trong một ngày của sinh viên đó"
   ]
  },
  {
   "cell_type": "code",
   "execution_count": 14,
   "id": "1bd68cb7",
   "metadata": {},
   "outputs": [
    {
     "data": {
      "text/html": [
       "<div>\n",
       "<style scoped>\n",
       "    .dataframe tbody tr th:only-of-type {\n",
       "        vertical-align: middle;\n",
       "    }\n",
       "\n",
       "    .dataframe tbody tr th {\n",
       "        vertical-align: top;\n",
       "    }\n",
       "\n",
       "    .dataframe thead th {\n",
       "        text-align: right;\n",
       "    }\n",
       "</style>\n",
       "<table border=\"1\" class=\"dataframe\">\n",
       "  <thead>\n",
       "    <tr style=\"text-align: right;\">\n",
       "      <th></th>\n",
       "      <th>IQ</th>\n",
       "      <th>hours per day</th>\n",
       "      <th>GPA</th>\n",
       "    </tr>\n",
       "  </thead>\n",
       "  <tbody>\n",
       "    <tr>\n",
       "      <th>0</th>\n",
       "      <td>97</td>\n",
       "      <td>16</td>\n",
       "      <td>3.08</td>\n",
       "    </tr>\n",
       "    <tr>\n",
       "      <th>1</th>\n",
       "      <td>115</td>\n",
       "      <td>14</td>\n",
       "      <td>3.27</td>\n",
       "    </tr>\n",
       "    <tr>\n",
       "      <th>2</th>\n",
       "      <td>100</td>\n",
       "      <td>4</td>\n",
       "      <td>2.22</td>\n",
       "    </tr>\n",
       "    <tr>\n",
       "      <th>3</th>\n",
       "      <td>91</td>\n",
       "      <td>8</td>\n",
       "      <td>2.35</td>\n",
       "    </tr>\n",
       "    <tr>\n",
       "      <th>4</th>\n",
       "      <td>135</td>\n",
       "      <td>13</td>\n",
       "      <td>3.58</td>\n",
       "    </tr>\n",
       "  </tbody>\n",
       "</table>\n",
       "</div>"
      ],
      "text/plain": [
       "    IQ  hours per day   GPA\n",
       "0   97             16  3.08\n",
       "1  115             14  3.27\n",
       "2  100              4  2.22\n",
       "3   91              8  2.35\n",
       "4  135             13  3.58"
      ]
     },
     "execution_count": 14,
     "metadata": {},
     "output_type": "execute_result"
    }
   ],
   "source": [
    "df = pd.read_excel('Data_GPA_harvard.xlsx')\n",
    "df.head()"
   ]
  },
  {
   "cell_type": "code",
   "execution_count": 15,
   "id": "13428e73",
   "metadata": {},
   "outputs": [],
   "source": [
    "dataIQ = np.array([df['IQ']]).T\n",
    "dataHour = np.array([df['hours per day']]).T\n",
    "GPA = np.array([df['GPA']]).T"
   ]
  },
  {
   "cell_type": "code",
   "execution_count": 16,
   "id": "7188fb94",
   "metadata": {},
   "outputs": [],
   "source": [
    "data = np.concatenate((dataIQ, dataHour), axis = 1)"
   ]
  },
  {
   "cell_type": "code",
   "execution_count": 17,
   "id": "2e6c23e1",
   "metadata": {},
   "outputs": [],
   "source": [
    "LR = linear_model.LinearRegression()"
   ]
  },
  {
   "cell_type": "code",
   "execution_count": 18,
   "id": "e99a3ac4",
   "metadata": {},
   "outputs": [
    {
     "data": {
      "text/plain": [
       "LinearRegression()"
      ]
     },
     "execution_count": 18,
     "metadata": {},
     "output_type": "execute_result"
    }
   ],
   "source": [
    "LR.fit(data, GPA)"
   ]
  },
  {
   "cell_type": "code",
   "execution_count": 19,
   "id": "3f956d45",
   "metadata": {},
   "outputs": [
    {
     "name": "stdout",
     "output_type": "stream",
     "text": [
      "[[0.01911752 0.07644387]]\n",
      "[0.00351354]\n"
     ]
    }
   ],
   "source": [
    "print(LR.coef_) # a\n",
    "print(LR.intercept_) # b (độ dốc)"
   ]
  },
  {
   "cell_type": "markdown",
   "id": "5faf0722",
   "metadata": {},
   "source": [
    "#### Predict"
   ]
  },
  {
   "cell_type": "code",
   "execution_count": 20,
   "id": "512eba72",
   "metadata": {},
   "outputs": [
    {
     "name": "stdout",
     "output_type": "stream",
     "text": [
      "Nhập IQ và hour của sinh viên bạn muốn dự đoán: 120 10\n",
      "Kết quả dự đoán là: 3.06 GPA\n"
     ]
    }
   ],
   "source": [
    "IQ, hour = map(float, input(\"Nhập IQ và hour của sinh viên bạn muốn dự đoán: \").split())\n",
    "result = round(IQ*LR.coef_[0][0] + hour*LR.coef_[0][1] + LR.intercept_[0], 2)\n",
    "print(f\"Kết quả dự đoán là: {result} GPA\")"
   ]
  },
  {
   "cell_type": "code",
   "execution_count": null,
   "id": "12efb171",
   "metadata": {},
   "outputs": [],
   "source": []
  }
 ],
 "metadata": {
  "kernelspec": {
   "display_name": "Python 3 (ipykernel)",
   "language": "python",
   "name": "python3"
  },
  "language_info": {
   "codemirror_mode": {
    "name": "ipython",
    "version": 3
   },
   "file_extension": ".py",
   "mimetype": "text/x-python",
   "name": "python",
   "nbconvert_exporter": "python",
   "pygments_lexer": "ipython3",
   "version": "3.9.13"
  }
 },
 "nbformat": 4,
 "nbformat_minor": 5
}
