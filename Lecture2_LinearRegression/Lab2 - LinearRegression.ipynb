{
 "cells": [
  {
   "cell_type": "markdown",
   "id": "870e59e9",
   "metadata": {},
   "source": [
    "### Problem 1\n",
    "Từ dữ liệu về chiều cao, cân nặng trong file **Data_hight_weight_of_female.xlsx** bạn hãy dùng Linear Regression để dự đoán cân nặng dựa vào chiều cao, và trực quan hóa"
   ]
  },
  {
   "cell_type": "code",
   "execution_count": 1,
   "id": "de042796",
   "metadata": {},
   "outputs": [],
   "source": [
    "# Code ở đây"
   ]
  },
  {
   "cell_type": "markdown",
   "id": "7563c29d",
   "metadata": {},
   "source": [
    "### Problem 2\n",
    "Từ dữ liệu file **Data_GPA_harvard.xlsx** bạn hãy dùng Linear Regression để dự đoán Điểm GPA của một sinh viên dựa vào chỉ số IQ và thời gian học trong một ngày của sinh viên đó"
   ]
  },
  {
   "cell_type": "code",
   "execution_count": 56,
   "id": "af684538",
   "metadata": {},
   "outputs": [],
   "source": [
    "# Code ở đây"
   ]
  },
  {
   "cell_type": "code",
   "execution_count": null,
   "id": "ab2bf060",
   "metadata": {},
   "outputs": [],
   "source": []
  }
 ],
 "metadata": {
  "kernelspec": {
   "display_name": "Python 3 (ipykernel)",
   "language": "python",
   "name": "python3"
  },
  "language_info": {
   "codemirror_mode": {
    "name": "ipython",
    "version": 3
   },
   "file_extension": ".py",
   "mimetype": "text/x-python",
   "name": "python",
   "nbconvert_exporter": "python",
   "pygments_lexer": "ipython3",
   "version": "3.9.13"
  }
 },
 "nbformat": 4,
 "nbformat_minor": 5
}
