{
 "cells": [
  {
   "attachments": {
    "AI_Faster_small.png": {
     "image/png": "[encoded data removed]"
    }
   },
   "cell_type": "markdown",
   "id": "174329aa",
   "metadata": {},
   "source": [
    "![AI_Faster_small.png](attachment:AI_Faster_small.png)\n",
    "\n",
    "Ngoài web machinelearningcoban mọi người có thể tham khảo thêm ebook này cùng 1 tác giả với trang web nhưng có những cái mới hơn https://github.com/tiepvupsu/ebookMLCB/blob/master/book_ML_color.pdf\n",
    "### Lab ôn tập Logistic resgression"
   ]
  },
  {
   "cell_type": "markdown",
   "id": "6686ddcf",
   "metadata": {},
   "source": [
    "**Viết chương trình để xử lý bài toán phân biệt hai chữ số viết tay  0 và 1 trong bộ cơ sở dữ liệu MNIST bằng Logistic resgression và KNN. So sánh kết quả của 2 mô hình và hiển thị các trường hợp dự đoán sai (nếu có)**\n",
    "\n"
   ]
  },
  {
   "cell_type": "markdown",
   "id": "5cc618c3",
   "metadata": {},
   "source": [
    "Kích thước của bộ dữ liệu MNIST của tensorflow lớn hơn của sklearn nên sẽ có kết quả tốt hơn"
   ]
  },
  {
   "cell_type": "markdown",
   "id": "a986ab26",
   "metadata": {},
   "source": [
    "Trước tiên nên install thư viện tensorflow "
   ]
  },
  {
   "cell_type": "code",
   "execution_count": null,
   "id": "8a4bb170",
   "metadata": {},
   "outputs": [],
   "source": [
    "!pip install tensorflow"
   ]
  },
  {
   "cell_type": "code",
   "execution_count": 3,
   "id": "273c7dc8",
   "metadata": {},
   "outputs": [
    {
     "ename": "ModuleNotFoundError",
     "evalue": "No module named 'tensorflow'",
     "output_type": "error",
     "traceback": [
      "\u001b[1;31m---------------------------------------------------------------------------\u001b[0m",
      "\u001b[1;31mModuleNotFoundError\u001b[0m                       Traceback (most recent call last)",
      "\u001b[1;32m~\\AppData\\Local\\Temp\\ipykernel_9716\\1954991258.py\u001b[0m in \u001b[0;36m<module>\u001b[1;34m\u001b[0m\n\u001b[1;32m----> 1\u001b[1;33m \u001b[1;32mimport\u001b[0m \u001b[0mtensorflow\u001b[0m \u001b[1;32mas\u001b[0m \u001b[0mtf\u001b[0m\u001b[1;33m\u001b[0m\u001b[1;33m\u001b[0m\u001b[0m\n\u001b[0m\u001b[0;32m      2\u001b[0m \u001b[1;33m\u001b[0m\u001b[0m\n\u001b[0;32m      3\u001b[0m \u001b[1;31m# Tải bộ dữ liệu MNIST từ TensorFlow\u001b[0m\u001b[1;33m\u001b[0m\u001b[1;33m\u001b[0m\u001b[0m\n\u001b[0;32m      4\u001b[0m \u001b[0mmnist\u001b[0m \u001b[1;33m=\u001b[0m \u001b[0mtf\u001b[0m\u001b[1;33m.\u001b[0m\u001b[0mkeras\u001b[0m\u001b[1;33m.\u001b[0m\u001b[0mdatasets\u001b[0m\u001b[1;33m.\u001b[0m\u001b[0mmnist\u001b[0m\u001b[1;33m\u001b[0m\u001b[1;33m\u001b[0m\u001b[0m\n\u001b[0;32m      5\u001b[0m \u001b[1;33m(\u001b[0m\u001b[0mx_train\u001b[0m\u001b[1;33m,\u001b[0m \u001b[0my_train\u001b[0m\u001b[1;33m)\u001b[0m\u001b[1;33m,\u001b[0m \u001b[1;33m(\u001b[0m\u001b[0mx_test\u001b[0m\u001b[1;33m,\u001b[0m \u001b[0my_test\u001b[0m\u001b[1;33m)\u001b[0m \u001b[1;33m=\u001b[0m \u001b[0mmnist\u001b[0m\u001b[1;33m.\u001b[0m\u001b[0mload_data\u001b[0m\u001b[1;33m(\u001b[0m\u001b[1;33m)\u001b[0m\u001b[1;33m\u001b[0m\u001b[1;33m\u001b[0m\u001b[0m\n",
      "\u001b[1;31mModuleNotFoundError\u001b[0m: No module named 'tensorflow'"
     ]
    }
   ],
   "source": [
    "import tensorflow as tf\n",
    "\n",
    "# Tải bộ dữ liệu MNIST từ TensorFlow\n",
    "mnist = tf.keras.datasets.mnist\n",
    "(x_train, y_train), (x_test, y_test) = mnist.load_data()\n",
    "\n",
    "# In thông tin về dữ liệu\n",
    "print(\"Kích thước dữ liệu huấn luyện:\", x_train.shape)\n",
    "print(\"Kích thước nhãn huấn luyện:\", y_train.shape)\n",
    "print(\"Kích thước dữ liệu kiểm tra:\", x_test.shape)\n",
    "print(\"Kích thước nhãn kiểm tra:\", y_test.shape)\n"
   ]
  },
  {
   "cell_type": "code",
   "execution_count": null,
   "id": "ff7753e6",
   "metadata": {},
   "outputs": [],
   "source": []
  }
 ],
 "metadata": {
  "kernelspec": {
   "display_name": "Python 3 (ipykernel)",
   "language": "python",
   "name": "python3"
  },
  "language_info": {
   "codemirror_mode": {
    "name": "ipython",
    "version": 3
   },
   "file_extension": ".py",
   "mimetype": "text/x-python",
   "name": "python",
   "nbconvert_exporter": "python",
   "pygments_lexer": "ipython3",
   "version": "3.9.13"
  }
 },
 "nbformat": 4,
 "nbformat_minor": 5
}
